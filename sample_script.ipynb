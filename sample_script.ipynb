{
 "cells": [
  {
   "cell_type": "code",
   "execution_count": null,
   "metadata": {
    "collapsed": false
   },
   "outputs": [],
   "source": [
    "import os\n",
    "\n",
    "from pymongo import MongoClient\n",
    "\n",
    "mongodb_uri = os.getenv(\"MONGODB_URI\")\n",
    "mongodb_id = os.getenv(\"MONGODB_ID\")\n",
    "mongodb_pw = os.getenv(\"MONGODB_PW\")\n",
    "\n",
    "client = MongoClient(mongodb_uri)\n",
    "client.admin.authenticate(mongodb_id, mongodb_pw, mechanism='SCRAM-SHA-1')\n",
    "db = client.user_data"
   ]
  },
  {
   "cell_type": "code",
   "execution_count": null,
   "metadata": {
    "collapsed": false
   },
   "outputs": [],
   "source": [
    "cursor = db[\"event\"].find()\n",
    "\n",
    "print(\"count: %d\" % cursor.count())\n",
    "entries = cursor[:]\n",
    "\n",
    "for entry in entries:\n",
    "    print(entry['name'])\n",
    "    print(entry)"
   ]
  },
  {
   "cell_type": "code",
   "execution_count": null,
   "metadata": {
    "collapsed": false,
    "scrolled": true
   },
   "outputs": [],
   "source": [
    "db.users.remove()"
   ]
  }
 ],
 "metadata": {
  "anaconda-cloud": {},
  "kernelspec": {
   "display_name": "Python 2",
   "language": "python",
   "name": "python2"
  },
  "language_info": {
   "codemirror_mode": {
    "name": "ipython",
    "version": 2
   },
   "file_extension": ".py",
   "mimetype": "text/x-python",
   "name": "python",
   "nbconvert_exporter": "python",
   "pygments_lexer": "ipython2",
   "version": "2.7.10"
  }
 },
 "nbformat": 4,
 "nbformat_minor": 0
}
