{
 "cells": [
  {
   "cell_type": "code",
   "execution_count": 2,
   "metadata": {
    "collapsed": false
   },
   "outputs": [],
   "source": [
    "import os\n",
    "\n",
    "from pymongo import MongoClient\n",
    "\n",
    "mongodb_uri = os.getenv(\"MONGODB_URI\")\n",
    "mongodb_id = os.getenv(\"MONGODB_ID\")\n",
    "mongodb_pw = os.getenv(\"MONGODB_PW\")\n",
    "\n",
    "client = MongoClient(mongodb_uri)\n",
    "client.admin.authenticate(mongodb_id, mongodb_pw, mechanism='SCRAM-SHA-1')\n",
    "db = client.user_data"
   ]
  },
  {
   "cell_type": "code",
   "execution_count": 20,
   "metadata": {
    "collapsed": false
   },
   "outputs": [
    {
     "ename": "SyntaxError",
     "evalue": "invalid syntax (<ipython-input-20-f866c96a0088>, line 1)",
     "output_type": "error",
     "traceback": [
      "\u001b[0;36m  File \u001b[0;32m\"<ipython-input-20-f866c96a0088>\"\u001b[0;36m, line \u001b[0;32m1\u001b[0m\n\u001b[0;31m    result = db.users.insert_one?(\u001b[0m\n\u001b[0m                                ^\u001b[0m\n\u001b[0;31mSyntaxError\u001b[0m\u001b[0;31m:\u001b[0m invalid syntax\n"
     ]
    }
   ],
   "source": [
    "result = db.users.insert_one(\n",
    "    {\n",
    "        \"_id\": \"u1234\",\n",
    "        \"event\": \"feed\",\n",
    "        \"create_time\": 1489239308,\n",
    "        \"last_remind_time\": 1489259308,\n",
    "        \"reminder_interval\": 86400\n",
    "    }\n",
    ")"
   ]
  },
  {
   "cell_type": "code",
   "execution_count": 25,
   "metadata": {
    "collapsed": false
   },
   "outputs": [
    {
     "name": "stdout",
     "output_type": "stream",
     "text": [
      "count: 0\n"
     ]
    }
   ],
   "source": [
    "cursor = db[\"users\"].find()\n",
    "\n",
    "print(\"count: %d\" % cursor.count())\n",
    "entries = cursor[:]\n",
    "\n",
    "for entry in entries:\n",
    "    print(entry)"
   ]
  },
  {
   "cell_type": "code",
   "execution_count": 24,
   "metadata": {
    "collapsed": false
   },
   "outputs": [
    {
     "name": "stderr",
     "output_type": "stream",
     "text": [
      "/usr/local/lib/python2.7/site-packages/ipykernel/__main__.py:1: DeprecationWarning: remove is deprecated. Use delete_one or delete_many instead.\n",
      "  if __name__ == '__main__':\n"
     ]
    },
    {
     "data": {
      "text/plain": [
       "{u'electionId': ObjectId('7fffffff0000000000000001'),\n",
       " u'n': 2,\n",
       " u'ok': 1.0,\n",
       " u'opTime': {u't': 1L, u'ts': Timestamp(1489305338, 2)}}"
      ]
     },
     "execution_count": 24,
     "metadata": {},
     "output_type": "execute_result"
    }
   ],
   "source": [
    "db.users.remove()"
   ]
  }
 ],
 "metadata": {
  "anaconda-cloud": {},
  "kernelspec": {
   "display_name": "Python 2",
   "language": "python",
   "name": "python2"
  },
  "language_info": {
   "codemirror_mode": {
    "name": "ipython",
    "version": 2
   },
   "file_extension": ".py",
   "mimetype": "text/x-python",
   "name": "python",
   "nbconvert_exporter": "python",
   "pygments_lexer": "ipython2",
   "version": "2.7.10"
  }
 },
 "nbformat": 4,
 "nbformat_minor": 0
}
